{
 "cells": [
  {
   "cell_type": "markdown",
   "metadata": {},
   "source": [
    "# Python Decision Tree\n",
    "A Jupyter notebook for building a machine learning decision tree."
   ]
  },
  {
   "cell_type": "markdown",
   "metadata": {},
   "source": [
    "## 1. Import libraries"
   ]
  },
  {
   "cell_type": "markdown",
   "metadata": {},
   "source": [
    "Google \"python decision tree\". You'll see the first result takes us to http://scikit-learn.org/stable/modules/tree.html. This is the documentation for a python machine learning package called `sklearn` will be our guide, and we will adapt it for our HR data.\n",
    "\n",
    "Following this documentation, our first step is to import in the code to build a decision tree:\n"
   ]
  },
  {
   "cell_type": "code",
   "execution_count": null,
   "metadata": {
    "collapsed": true
   },
   "outputs": [],
   "source": [
    "from sklearn import tree\n",
    "import pandas as pd"
   ]
  },
  {
   "cell_type": "markdown",
   "metadata": {},
   "source": [
    "## 2. Load data"
   ]
  },
  {
   "cell_type": "markdown",
   "metadata": {},
   "source": [
    "Where is our data right now? In a csv file, in the same folder as this file. So, we've got to bring that data in, we've got to make the connection.\n",
    "\n",
    "Let's go back to google for guidance. \"import csv python\" or other variations show some [ugly code](https://docs.python.org/2/library/csv.html). There must me a simpler way!\n",
    "\n",
    "Well, thanks to [Wes Mckinney](http://wesmckinney.com/), there is. He created another library to make things a lot smoother for data scientists and he called it \"pandas\".\n",
    "\n",
    "If we google \"import csv pandas\" we find a few walkthroughs, including https://pythonhow.com/data-analysis-with-python-pandas/.\n",
    "\n",
    "Looks like we need to import it, so let's add that under our \"Import libraries\" section above and then load in our data.\n",
    "\n",
    "It's also always good to look at the data we're loading in, so we can use `data.head()` for a preview of the top few lines:"
   ]
  },
  {
   "cell_type": "code",
   "execution_count": null,
   "metadata": {},
   "outputs": [],
   "source": [
    "data = pd.read_csv(\"../HR_clean.csv\")\n",
    "data.head()"
   ]
  },
  {
   "cell_type": "markdown",
   "metadata": {},
   "source": [
    "Now, following the sklearn documentation again, we want to separate out our Y (the thing we want to predict), from our X (the things we want to use to predict Y).\n",
    "\n",
    "Grabbing one column is easy, but to grab a range, we have to use `.iloc` for index location:"
   ]
  },
  {
   "cell_type": "code",
   "execution_count": null,
   "metadata": {
    "collapsed": true
   },
   "outputs": [],
   "source": [
    "Y = data[\"resigned\"]\n",
    "X = data.iloc[:,4:-1]"
   ]
  },
  {
   "cell_type": "markdown",
   "metadata": {},
   "source": [
    "## 3. Build and fit decision tree"
   ]
  },
  {
   "cell_type": "markdown",
   "metadata": {},
   "source": [
    "Now we have our data ready, let's make this machine learn!\n",
    "\n",
    "We can now copy and paste in those last two lines from the sklearn documentation below, and run it for machine learning model (stored inside `clf`):"
   ]
  },
  {
   "cell_type": "code",
   "execution_count": null,
   "metadata": {
    "collapsed": true
   },
   "outputs": [],
   "source": [
    "clf = tree.DecisionTreeClassifier(max_depth = 3)\n",
    "clf = clf.fit(X, Y)"
   ]
  },
  {
   "cell_type": "markdown",
   "metadata": {},
   "source": [
    "<br><br><br>...wait, that's it? Can I see my tree please?<br><br><br>\n",
    "## 4. Evaluate decision tree"
   ]
  },
  {
   "cell_type": "markdown",
   "metadata": {},
   "source": [
    "Looking further down our sklearn documentation, it looks like they've given us code to visualize the decision tree that is stored inside `clf`. We have taken that code and adapted it for our data below, just run it and take a look:"
   ]
  },
  {
   "cell_type": "code",
   "execution_count": null,
   "metadata": {
    "collapsed": true
   },
   "outputs": [],
   "source": [
    "import graphviz\n",
    "\n",
    "dot_data = tree.export_graphviz(clf, out_file=None, \n",
    "                         feature_names = X.columns,  \n",
    "                         class_names = [\"stay\",\"leave\"],  \n",
    "                         filled=True, rounded=True,  \n",
    "                         special_characters=True)  \n",
    "graph = graphviz.Source(dot_data)  \n",
    "graph "
   ]
  },
  {
   "cell_type": "markdown",
   "metadata": {},
   "source": [
    "Wait, is your tree huge? If so, then it means we're probably asking *too many* questions. To limit the number we can add the `max_depth=3` parameter to our `tree.DecisionTreeClassifier()` method above, and re-run our code. This is important, as managing the depth of your tree prevents [overfitting](https://elitedatascience.com/overfitting-in-machine-learning).\n",
    "\n",
    "The last question we might have is, \"how good is this tree\"? Well, if we look deeper in the documentation, we'll see there's a simple way of testing the accuracy of our tree and making predictions.\n",
    "\n",
    "This is just going to to test on the same data we trained on though, is that the best way of doing it?"
   ]
  },
  {
   "cell_type": "code",
   "execution_count": null,
   "metadata": {
    "collapsed": true
   },
   "outputs": [],
   "source": [
    "clf.score(X,Y)"
   ]
  },
  {
   "cell_type": "markdown",
   "metadata": {},
   "source": [
    "### ---- Bonus Material -----\n",
    "\n",
    "What if we wanted to train on some data, and test on different data? Well, we could train on some of our data and then test on the rest, in a process known as **cross-validation**.\n",
    "\n",
    "Sklearn even has it's own package for it: http://scikit-learn.org/stable/modules/cross_validation.html\n",
    "\n",
    "And there is one function that will do this for us, known as `cross_val_score`:"
   ]
  },
  {
   "cell_type": "code",
   "execution_count": null,
   "metadata": {},
   "outputs": [],
   "source": [
    "from sklearn.model_selection import cross_val_score\n",
    "\n",
    "train_test = cross_val_score(clf, X, Y)\n",
    "\n",
    "print(train_test)"
   ]
  }
 ],
 "metadata": {
  "kernelspec": {
   "display_name": "Python 3",
   "language": "python",
   "name": "python3"
  },
  "language_info": {
   "codemirror_mode": {
    "name": "ipython",
    "version": 3
   },
   "file_extension": ".py",
   "mimetype": "text/x-python",
   "name": "python",
   "nbconvert_exporter": "python",
   "pygments_lexer": "ipython3",
   "version": "3.7.0"
  }
 },
 "nbformat": 4,
 "nbformat_minor": 2
}
